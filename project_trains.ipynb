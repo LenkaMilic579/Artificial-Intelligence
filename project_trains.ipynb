{
 "cells": [
  {
   "cell_type": "code",
   "execution_count": 1,
   "metadata": {},
   "outputs": [],
   "source": [
    "from sklearn.model_selection import train_test_split\n",
    "import numpy as np\n",
    "import matplotlib.pyplot as plt\n",
    "\n",
    "from help_functions import *\n",
    "\n",
    "%matplotlib inline\n",
    "plt.rcParams['figure.figsize'] = (5.0, 4.0) # set default size of plots\n",
    "plt.rcParams['image.interpolation'] = 'nearest'\n",
    "plt.rcParams['image.cmap'] = 'gray'\n",
    "\n",
    "%load_ext autoreload\n",
    "%autoreload 2"
   ]
  },
  {
   "cell_type": "code",
   "execution_count": 2,
   "metadata": {},
   "outputs": [
    {
     "name": "stdout",
     "output_type": "stream",
     "text": [
      "Number of examples after execution:  214\n",
      "Elemet before last element in a list:  65, 3.0, 0.0, 0.0, 0.0, 1.0, 0.0, 0.0, 1.0, 1.0, 0.0, 0.0, 0.0, 0.0, 1.0, 0.0, 2.0, 0.0, 0.0, 0.0, 0.0, 1.0, 0.0, 1.0, 2.0, 1,\n",
      "\n",
      "Last and unusefull element in list is empty:  \n",
      "\n",
      "Real number of examples, m  =  213\n"
     ]
    }
   ],
   "source": [
    "# Load data from a text file\n",
    "path = 'datadata.txt'\n",
    "data = read_linebyline(path)\n",
    "print(\"Number of examples after execution: \", len(data))\n",
    "\n",
    "# Delete empty row\n",
    "print(\"Elemet before last element in a list: \",data[len(data) - 2])\n",
    "print()\n",
    "print(\"Last and unusefull element in list is empty: \",data[len(data) - 1])\n",
    "print()\n",
    "\n",
    "data.remove(data[len(data) - 1])\n",
    "m = len(data)\n",
    "print(\"Real number of examples, m  = \", m)"
   ]
  },
  {
   "cell_type": "code",
   "execution_count": 3,
   "metadata": {},
   "outputs": [
    {
     "name": "stdout",
     "output_type": "stream",
     "text": [
      "Shape of X = (213, 25)\n",
      "Shape of Y = (213, 1)\n",
      "\n",
      "First example: \n",
      "X = [129.   1.   0.   0.   0.   1.   0.   1.   0.   0.   1.   0.   0.   0.\n",
      "   1.   0.   2.   0.   0.   0.   1.   0.   0.   3.   0.]\n",
      "Output for first example X: \n",
      "Y = [1.]\n",
      "\n",
      "Type of elements in numpy array is : <class 'numpy.float64'>\n"
     ]
    }
   ],
   "source": [
    "# Split data to fit vector X (m x numeber_of_atributes) and Y (m x 1)\n",
    "X, Y = splitData(data)\n",
    "\n",
    "# Explore your data\n",
    "print(\"Shape of X = \" + str(X.shape))\n",
    "print(\"Shape of Y = \" + str(Y.shape))\n",
    "print()\n",
    "print(\"First example: \\nX = \" + str(X[0]))\n",
    "print(\"Output for first example X: \\nY = \" + str(Y[0]))\n",
    "print()\n",
    "print(\"Type of elements in numpy array is : \" + str(type(X[0][0])))"
   ]
  },
  {
   "cell_type": "code",
   "execution_count": 4,
   "metadata": {},
   "outputs": [
    {
     "name": "stdout",
     "output_type": "stream",
     "text": [
      "Number of training examples: m_train = 170\n",
      "Number of testing examples: m_test = 43\n",
      "Number of attributes: num_attributes = 25\n",
      "0utput classes = [0. 1.]\n",
      "x_train shape: (25, 170)\n",
      "y_train shape: (1, 170)\n",
      "x_test shape: (25, 43)\n",
      "y_test shape: (1, 43)\n",
      "Number of all examples: 213\n"
     ]
    }
   ],
   "source": [
    "# Split your train and test data\n",
    "x_train,x_test,y_train,y_test = train_test_split(X,Y,test_size=0.2)\n",
    "\n",
    "# Make valuable dimensions\n",
    "x_train = x_train.T\n",
    "x_test = x_test.T\n",
    "y_train = y_train.T\n",
    "y_test = y_test.T\n",
    "\n",
    "m_train = x_train.shape[1]\n",
    "m_test = x_test.shape[1]\n",
    "num_attributes = x_train.shape[0]\n",
    "\n",
    "# Explore your data\n",
    "print (\"Number of training examples: m_train = \" + str(m_train))\n",
    "print (\"Number of testing examples: m_test = \" + str(m_test))\n",
    "print (\"Number of attributes: num_attributes = \" + str(num_attributes))\n",
    "print (\"0utput classes = \" + str(np.unique(y_train)))\n",
    "print (\"x_train shape: \" + str(x_train.shape))\n",
    "print (\"y_train shape: \" + str(y_train.shape))\n",
    "print (\"x_test shape: \" + str(x_test.shape))\n",
    "print (\"y_test shape: \" + str(y_test.shape))\n",
    "print (\"Number of all examples: \" + str(m))"
   ]
  },
  {
   "cell_type": "code",
   "execution_count": 5,
   "metadata": {},
   "outputs": [
    {
     "name": "stdout",
     "output_type": "stream",
     "text": [
      "W1 shape= (100, 25)\n",
      "b1 shape= (100, 1)\n",
      "W2 shape= (50, 100)\n",
      "b2 shape= (50, 1)\n",
      "W3 shape= (10, 50)\n",
      "b3 shape= (10, 1)\n",
      "W4 shape= (1, 10)\n",
      "b4 shape= (1, 1)\n"
     ]
    }
   ],
   "source": [
    "layers_dims = [num_attributes, 100, 50, 10, 1] #  4-layer model\n",
    "parameters = initialize_parameters_deep(layers_dims)\n",
    "print(\"W1 shape= \" + str(parameters[\"W1\"].shape))\n",
    "print(\"b1 shape= \" + str(parameters[\"b1\"].shape))\n",
    "print(\"W2 shape= \" + str(parameters[\"W2\"].shape))\n",
    "print(\"b2 shape= \" + str(parameters[\"b2\"].shape))\n",
    "print(\"W3 shape= \" + str(parameters[\"W3\"].shape))\n",
    "print(\"b3 shape= \" + str(parameters[\"b3\"].shape))\n",
    "print(\"W4 shape= \" + str(parameters[\"W4\"].shape))\n",
    "print(\"b4 shape= \" + str(parameters[\"b4\"].shape))"
   ]
  },
  {
   "cell_type": "code",
   "execution_count": 6,
   "metadata": {},
   "outputs": [],
   "source": [
    "def L_layer_model(X, Y, layers_dims, learning_rate = 0.0075, num_iterations = 2000, \n",
    "                  print_cost=False, init=\"he\", reg=None):#lr was 0.009\n",
    "    \"\"\"\n",
    "    Implements a L-layer neural network: [LINEAR->RELU]*(L-1)->LINEAR->SIGMOID.\n",
    "    \n",
    "    Arguments:\n",
    "    X -- data, numpy array of shape (number of examples, num_px * num_px * 3)\n",
    "    Y -- true \"label\" vector (containing 0 if cat, 1 if non-cat), of shape (1, number of examples)\n",
    "    layers_dims -- list containing the input size and each layer size, of length (number of layers + 1).\n",
    "    learning_rate -- learning rate of the gradient descent update rule\n",
    "    num_iterations -- number of iterations of the optimization loop\n",
    "    print_cost -- if True, it prints the cost every 100 steps\n",
    "    \n",
    "    Returns:\n",
    "    parameters -- parameters learnt by the model. They can then be used to predict.\n",
    "    \"\"\"\n",
    "\n",
    "    np.random.seed(1)\n",
    "    costs = []                         # keep track of cost\n",
    "    \n",
    "    # Parameters initialization. (≈ 1 line of code)\n",
    "    ### START CODE HERE ###\n",
    "    if init == \"rand\":\n",
    "        parameters = initialize_parameters_deep(layers_dims)\n",
    "    if init == \"he\":\n",
    "        parameters = initialize_parameters_he(layers_dims)\n",
    "    ### END CODE HERE ###\n",
    "    \n",
    "    # Loop (gradient descent)\n",
    "    for i in range(0, num_iterations):\n",
    "\n",
    "        # Forward propagation: [LINEAR -> RELU]*(L-1) -> LINEAR -> SIGMOID.\n",
    "        ### START CODE HERE ### (≈ 1 line of code)\n",
    "        AL, caches = L_model_forward(X, parameters)\n",
    "        ### END CODE HERE ###\n",
    "        \n",
    "        # Compute cost.\n",
    "        cost = compute_cost(AL, Y, reg)\n",
    "        ### END CODE HERE ###\n",
    "    \n",
    "        # Backward propagation.\n",
    "        ### START CODE HERE ### (≈ 1 line of code)\n",
    "        grads = L_model_backward(AL, Y, caches, reg)\n",
    "        ### END CODE HERE ###\n",
    " \n",
    "        # Update parameters.\n",
    "        ### START CODE HERE ### (≈ 1 line of code)\n",
    "        parameters = update_parameters(parameters, grads, learning_rate)\n",
    "        ### END CODE HERE ###\n",
    "                \n",
    "        # Print the cost every 100 training example\n",
    "        if print_cost and i % 100 == 0:\n",
    "            print (\"Cost after iteration %i: %f\" %(i, cost))\n",
    "        if print_cost and i % 100 == 0:\n",
    "            costs.append(cost)\n",
    "            \n",
    "    # plot the cost\n",
    "    plt.plot(np.squeeze(costs))\n",
    "    plt.ylabel('cost')\n",
    "    plt.xlabel('iterations (per tens)')\n",
    "    plt.title(\"Learning rate =\" + str(learning_rate))\n",
    "    plt.show()\n",
    "    \n",
    "    return parameters"
   ]
  },
  {
   "cell_type": "code",
   "execution_count": 7,
   "metadata": {},
   "outputs": [
    {
     "name": "stdout",
     "output_type": "stream",
     "text": [
      "Random initialization:\n",
      "Cost after iteration 0: 0.693164\n",
      "Cost after iteration 100: 0.685330\n",
      "Cost after iteration 200: 0.679951\n",
      "Cost after iteration 300: 0.676249\n",
      "Cost after iteration 400: 0.673697\n",
      "Cost after iteration 500: 0.671936\n",
      "Cost after iteration 600: 0.670717\n",
      "Cost after iteration 700: 0.669873\n",
      "Cost after iteration 800: 0.669288\n",
      "Cost after iteration 900: 0.668881\n",
      "Cost after iteration 1000: 0.668598\n",
      "Cost after iteration 1100: 0.668401\n",
      "Cost after iteration 1200: 0.668263\n",
      "Cost after iteration 1300: 0.668167\n",
      "Cost after iteration 1400: 0.668101\n",
      "Cost after iteration 1500: 0.668054\n",
      "Cost after iteration 1600: 0.668021\n",
      "Cost after iteration 1700: 0.667998\n",
      "Cost after iteration 1800: 0.667982\n",
      "Cost after iteration 1900: 0.667970\n",
      "Cost after iteration 2000: 0.667962\n",
      "Cost after iteration 2100: 0.667956\n",
      "Cost after iteration 2200: 0.667952\n",
      "Cost after iteration 2300: 0.667949\n",
      "Cost after iteration 2400: 0.667947\n",
      "Cost after iteration 2500: 0.667945\n",
      "Cost after iteration 2600: 0.667944\n",
      "Cost after iteration 2700: 0.667943\n",
      "Cost after iteration 2800: 0.667942\n",
      "Cost after iteration 2900: 0.667941\n"
     ]
    },
    {
     "data": {
      "image/png": "[encoded data removed]",
      "text/plain": [
       "<Figure size 432x288 with 1 Axes>"
      ]
     },
     "metadata": {
      "needs_background": "light"
     },
     "output_type": "display_data"
    },
    {
     "name": "stdout",
     "output_type": "stream",
     "text": [
      "On the train set:\n",
      "Accuracy: 0.6117647058823529\n",
      "On the test set:\n",
      "Accuracy: 0.6511627906976745\n"
     ]
    }
   ],
   "source": [
    "print (\"Random initialization:\")\n",
    "parameters = L_layer_model(x_train, y_train, layers_dims, num_iterations = 3000, print_cost = True, init = \"rand\")\n",
    "\n",
    "print (\"On the train set:\")\n",
    "pred_train = predict(x_train, y_train, parameters)\n",
    "print (\"On the test set:\")\n",
    "pred_test = predict(x_test, y_test, parameters)"
   ]
  },
  {
   "cell_type": "code",
   "execution_count": 8,
   "metadata": {},
   "outputs": [
    {
     "name": "stdout",
     "output_type": "stream",
     "text": [
      "He initialization:\n",
      "Cost after iteration 0: 9.542448\n",
      "Cost after iteration 100: 0.629743\n",
      "Cost after iteration 200: 0.620412\n",
      "Cost after iteration 300: 0.609952\n",
      "Cost after iteration 400: 0.597781\n",
      "Cost after iteration 500: 0.583581\n",
      "Cost after iteration 600: 0.567882\n",
      "Cost after iteration 700: 0.553156\n",
      "Cost after iteration 800: 0.538576\n",
      "Cost after iteration 900: 0.528114\n",
      "Cost after iteration 1000: 0.517619\n",
      "Cost after iteration 1100: 0.505846\n",
      "Cost after iteration 1200: 0.495840\n",
      "Cost after iteration 1300: 0.485855\n",
      "Cost after iteration 1400: 0.477796\n",
      "Cost after iteration 1500: 0.463806\n",
      "Cost after iteration 1600: 0.457934\n",
      "Cost after iteration 1700: 0.444845\n",
      "Cost after iteration 1800: 0.433037\n",
      "Cost after iteration 1900: 0.421495\n",
      "Cost after iteration 2000: 0.419423\n",
      "Cost after iteration 2100: 0.410386\n",
      "Cost after iteration 2200: 0.401685\n",
      "Cost after iteration 2300: 0.396661\n",
      "Cost after iteration 2400: 0.388429\n",
      "Cost after iteration 2500: 0.385867\n",
      "Cost after iteration 2600: 0.395822\n",
      "Cost after iteration 2700: 0.379827\n",
      "Cost after iteration 2800: 0.407861\n",
      "Cost after iteration 2900: 0.459763\n"
     ]
    },
    {
     "data": {
      "image/png": "[encoded data removed]",
      "text/plain": [
       "<Figure size 432x288 with 1 Axes>"
      ]
     },
     "metadata": {
      "needs_background": "light"
     },
     "output_type": "display_data"
    },
    {
     "name": "stdout",
     "output_type": "stream",
     "text": [
      "On the train set:\n",
      "Accuracy: 0.8235294117647058\n",
      "On the test set:\n",
      "Accuracy: 0.7906976744186047\n"
     ]
    }
   ],
   "source": [
    "print (\"He initialization:\")\n",
    "parameters = L_layer_model(x_train, y_train, layers_dims, num_iterations = 3000, print_cost = True, init = \"he\")\n",
    "print (\"On the train set:\")\n",
    "pred_train = predict(x_train, y_train, parameters)\n",
    "print (\"On the test set:\")\n",
    "pred_test = predict(x_test, y_test, parameters)"
   ]
  },
  {
   "cell_type": "code",
   "execution_count": 13,
   "metadata": {},
   "outputs": [],
   "source": [
    "def model(X, Y, layers_dims, optimizer, learning_rate = 0.0007, mini_batch_size = 64, beta = 0.9,\n",
    "          beta1 = 0.9, beta2 = 0.999,  epsilon = 1e-8, num_epochs = 1000, print_cost = False,init=\"he\", reg=False ):\n",
    "    \"\"\"\n",
    "    3-layer neural network model which can be run in different optimizer modes.\n",
    "    \n",
    "    Arguments:\n",
    "    X -- input data, of shape (2, number of examples)\n",
    "    Y -- true \"label\" vector (1 for blue dot / 0 for red dot), of shape (1, number of examples)\n",
    "    layers_dims -- python list, containing the size of each layer\n",
    "    learning_rate -- the learning rate, scalar.\n",
    "    mini_batch_size -- the size of a mini batch\n",
    "    beta -- Momentum hyperparameter\n",
    "    beta1 -- Exponential decay hyperparameter for the past gradients estimates \n",
    "    beta2 -- Exponential decay hyperparameter for the past squared gradients estimates \n",
    "    epsilon -- hyperparameter preventing division by zero in Adam updates\n",
    "    num_epochs -- number of epochs\n",
    "    print_cost -- True to print the cost every 1000 epochs\n",
    "\n",
    "    Returns:\n",
    "    parameters -- python dictionary containing your updated parameters \n",
    "    \"\"\"\n",
    "\n",
    "    L = len(layers_dims)             # number of layers in the neural networks\n",
    "    costs = []                       # to keep track of the cost\n",
    "    t = 0                            # initializing the counter required for Adam update\n",
    "    seed = 10                        # For grading purposes, so that your \"random\" minibatches are the same as ours\n",
    "    \n",
    "    if init == \"rand\":\n",
    "        parameters = initialize_parameters_deep(layers_dims)\n",
    "    if init == \"he\":\n",
    "        parameters = initialize_parameters_he(layers_dims)\n",
    "\n",
    "    # Initialize the optimizer\n",
    "    if optimizer == \"gd\":\n",
    "        pass # no initialization required for gradient descent\n",
    "    elif optimizer == \"momentum\":\n",
    "        v = initialize_velocity(parameters)\n",
    "    elif optimizer == \"adam\":\n",
    "        v, s = initialize_adam(parameters)\n",
    "    \n",
    "    # Optimization loop\n",
    "    for i in range(num_epochs):\n",
    "        \n",
    "        # Define the random minibatches. We increment the seed to reshuffle differently the dataset after each epoch\n",
    "        seed = seed + 1\n",
    "        minibatches = random_mini_batches(X, Y, mini_batch_size, seed)\n",
    "\n",
    "        for minibatch in minibatches:\n",
    "\n",
    "            # Select a minibatch\n",
    "            (minibatch_X, minibatch_Y) = minibatch\n",
    "\n",
    "            # Forward propagation\n",
    "            AL, caches = L_model_forward(minibatch_X, parameters)\n",
    "\n",
    "            # Compute cost\n",
    "            if reg == False:\n",
    "                cost = compute_cost(AL, minibatch_Y, None)\n",
    "            else:\n",
    "                cost = compute_cost(AL, minibatch_Y, parameters)\n",
    "\n",
    "            # Backward propagation\n",
    "            grads = L_model_backward(AL, minibatch_Y, caches, reg)\n",
    "\n",
    "            # Update parameters\n",
    "            if optimizer == \"gd\":\n",
    "                parameters = update_parameters_with_gd(parameters, grads, learning_rate)\n",
    "            elif optimizer == \"momentum\":\n",
    "                parameters, v = update_parameters_with_momentum(parameters, grads, v, beta, learning_rate)\n",
    "            elif optimizer == \"adam\":\n",
    "                t = t + 1 # Adam counter\n",
    "                parameters, v, s = update_parameters_with_adam(parameters, grads, v, s,\n",
    "                                                               t, learning_rate, beta1, beta2,  epsilon)\n",
    "        \n",
    "        # Print the cost every 100 epoch\n",
    "        if print_cost and i % 100 == 0:\n",
    "            print (\"Cost after epoch %i: %f\" %(i, cost))\n",
    "        if print_cost and i % 10 == 0:\n",
    "            costs.append(cost)\n",
    "                \n",
    "    # plot the cost\n",
    "    plt.plot(costs)\n",
    "    plt.ylabel('cost')\n",
    "    plt.xlabel('epochs (per 10)')\n",
    "    plt.title(\"Learning rate = \" + str(learning_rate))\n",
    "    plt.show()\n",
    "\n",
    "    return parameters"
   ]
  },
  {
   "cell_type": "code",
   "execution_count": 19,
   "metadata": {},
   "outputs": [
    {
     "name": "stdout",
     "output_type": "stream",
     "text": [
      "He initialization + Minibatch Gradient Descent\n",
      "Cost after epoch 0: 2.537526\n",
      "Cost after epoch 100: 0.616759\n",
      "Cost after epoch 200: 0.598436\n",
      "Cost after epoch 300: 0.645090\n",
      "Cost after epoch 400: 0.584586\n",
      "Cost after epoch 500: 0.613588\n",
      "Cost after epoch 600: 0.562673\n",
      "Cost after epoch 700: 0.590139\n",
      "Cost after epoch 800: 0.514813\n",
      "Cost after epoch 900: 0.601845\n"
     ]
    },
    {
     "data": {
      "image/png": "[encoded data removed]",
      "text/plain": [
       "<Figure size 432x288 with 1 Axes>"
      ]
     },
     "metadata": {
      "needs_background": "light"
     },
     "output_type": "display_data"
    },
    {
     "name": "stdout",
     "output_type": "stream",
     "text": [
      "On the train set:\n",
      "Accuracy: 0.7117647058823529\n",
      "On the test set:\n",
      "Accuracy: 0.744186046511628\n"
     ]
    }
   ],
   "source": [
    "print (\"He initialization + Minibatch Gradient Descent\")\n",
    "# parameters = L_layer_model(x_train, y_train, layers_dims, \n",
    "# num_iterations = 3000, print_cost = True, init = \"he\", reg=True)\n",
    "parameters = model(x_train, y_train, layers_dims, optimizer = \"gd\", \n",
    "                   print_cost = True, init = \"he\")\n",
    "\n",
    "# Predict\n",
    "print (\"On the train set:\")\n",
    "pred_train = predict(x_train, y_train, parameters)\n",
    "print (\"On the test set:\")\n",
    "pred_test = predict(x_test, y_test, parameters)"
   ]
  },
  {
   "cell_type": "code",
   "execution_count": 15,
   "metadata": {},
   "outputs": [
    {
     "name": "stdout",
     "output_type": "stream",
     "text": [
      "He initialization + Momentum\n",
      "Cost after epoch 0: 6.474190\n",
      "Cost after epoch 100: 0.600476\n",
      "Cost after epoch 200: 0.596190\n",
      "Cost after epoch 300: 0.633141\n",
      "Cost after epoch 400: 0.561107\n",
      "Cost after epoch 500: 0.618716\n",
      "Cost after epoch 600: 0.591819\n",
      "Cost after epoch 700: 0.609621\n",
      "Cost after epoch 800: 0.522872\n",
      "Cost after epoch 900: 0.561347\n"
     ]
    },
    {
     "data": {
      "image/png": "[encoded data removed]",
      "text/plain": [
       "<Figure size 432x288 with 1 Axes>"
      ]
     },
     "metadata": {
      "needs_background": "light"
     },
     "output_type": "display_data"
    },
    {
     "name": "stdout",
     "output_type": "stream",
     "text": [
      "On the train set:\n",
      "Accuracy: 0.7294117647058824\n",
      "On the test set:\n",
      "Accuracy: 0.7674418604651163\n"
     ]
    }
   ],
   "source": [
    "print (\"He initialization + Momentum\")\n",
    "# parameters = L_layer_model(x_train, y_train, layers_dims, \n",
    "# num_iterations = 3000, print_cost = True, init = \"he\", reg=True)\n",
    "parameters = model(x_train, y_train, layers_dims, optimizer = \"momentum\", \n",
    "                   print_cost = True, init = \"he\")\n",
    "\n",
    "# Predict\n",
    "print (\"On the train set:\")\n",
    "pred_train = predict(x_train, y_train, parameters)\n",
    "print (\"On the test set:\")\n",
    "pred_test = predict(x_test, y_test, parameters)"
   ]
  },
  {
   "cell_type": "code",
   "execution_count": 18,
   "metadata": {},
   "outputs": [
    {
     "name": "stdout",
     "output_type": "stream",
     "text": [
      "He initialization + Adam optimizer\n",
      "Cost after epoch 0: 5.781357\n",
      "Cost after epoch 100: 0.398567\n",
      "Cost after epoch 200: 0.336058\n",
      "Cost after epoch 300: 0.325286\n",
      "Cost after epoch 400: 0.241816\n",
      "Cost after epoch 500: 0.190679\n",
      "Cost after epoch 600: 0.224387\n",
      "Cost after epoch 700: 0.275943\n",
      "Cost after epoch 800: 0.152473\n",
      "Cost after epoch 900: 0.134322\n"
     ]
    },
    {
     "data": {
      "image/png": "[encoded data removed]",
      "text/plain": [
       "<Figure size 432x288 with 1 Axes>"
      ]
     },
     "metadata": {
      "needs_background": "light"
     },
     "output_type": "display_data"
    },
    {
     "name": "stdout",
     "output_type": "stream",
     "text": [
      "On the train set:\n",
      "Accuracy: 0.9529411764705882\n",
      "On the test set:\n",
      "Accuracy: 0.813953488372093\n"
     ]
    }
   ],
   "source": [
    "print (\"He initialization + Adam optimizer\")\n",
    "# parameters = L_layer_model(x_train, y_train, layers_dims, \n",
    "# num_iterations = 3000, print_cost = True, init = \"he\", reg=True)\n",
    "parameters = model(x_train, y_train, layers_dims, optimizer = \"adam\", \n",
    "                   print_cost = True, init = \"he\")\n",
    "\n",
    "# Predict\n",
    "print (\"On the train set:\")\n",
    "pred_train = predict(x_train, y_train, parameters)\n",
    "print (\"On the test set:\")\n",
    "pred_test = predict(x_test, y_test, parameters)"
   ]
  }
 ],
 "metadata": {
  "kernelspec": {
   "display_name": "Python 3",
   "language": "python",
   "name": "python3"
  },
  "language_info": {
   "codemirror_mode": {
    "name": "ipython",
    "version": 3
   },
   "file_extension": ".py",
   "mimetype": "text/x-python",
   "name": "python",
   "nbconvert_exporter": "python",
   "pygments_lexer": "ipython3",
   "version": "3.7.3"
  }
 },
 "nbformat": 4,
 "nbformat_minor": 2
}
